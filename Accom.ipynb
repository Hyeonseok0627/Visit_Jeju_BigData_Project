{
 "cells": [
  {
   "cell_type": "code",
   "execution_count": 1,
   "metadata": {},
   "outputs": [
    {
     "data": {
      "text/plain": [
       "title                0\n",
       "contentsid           0\n",
       "type_value           0\n",
       "type_label           0\n",
       "address              0\n",
       "roadaddress          0\n",
       "postcode           237\n",
       "phoneno              2\n",
       "latitude             1\n",
       "longitude            1\n",
       "region1cd_value      0\n",
       "region1cd_label      0\n",
       "region2cd_value      0\n",
       "region2cd_label      0\n",
       "photoid              0\n",
       "imgpath              0\n",
       "thumbnailpath        1\n",
       "introduction         0\n",
       "alltags              3\n",
       "tag                  0\n",
       "dtype: int64"
      ]
     },
     "execution_count": 1,
     "metadata": {},
     "output_type": "execute_result"
    }
   ],
   "source": [
    "import pandas as pd\n",
    "\n",
    "# 데이터 파일 불러오기\n",
    "data = pd.read_csv('Accom.csv')\n",
    "data.head()\n",
    "\n",
    "null_counts = data.isnull().sum()\n",
    "null_counts"
   ]
  }
 ],
 "metadata": {
  "kernelspec": {
   "display_name": "Python 3",
   "language": "python",
   "name": "python3"
  },
  "language_info": {
   "codemirror_mode": {
    "name": "ipython",
    "version": 3
   },
   "file_extension": ".py",
   "mimetype": "text/x-python",
   "name": "python",
   "nbconvert_exporter": "python",
   "pygments_lexer": "ipython3",
   "version": "3.10.7"
  }
 },
 "nbformat": 4,
 "nbformat_minor": 2
}
